{
 "cells": [
  {
   "cell_type": "markdown",
   "metadata": {},
   "source": [
    "# Texas Hold'Em Hands\n",
    "\n",
    "[Source: CodeWars](https://www.codewars.com/kata/524c74f855025e2495000262)\n",
    "\n",
    "Texas Hold'em is a Poker variant in which each player is given two \"hole cards\". Players then proceed to make a series of bets while five \"community cards\" are dealt. If there are more than one player remaining when the betting stops, a showdown takes place in which players reveal their cards. Each player makes the best poker hand possible using five of the seven available cards (community cards + the player's hole cards).\n",
    "\n",
    "Possible hands are, in descending order of value:\n",
    "\n",
    "- `straight-flush` - Five consecutive ranks of the same suit. Higher rank is better.\n",
    "- `four-of-a-kind` - Four cards with the same rank. Tiebreaker is first the rank, then the rank of the remaining card.\n",
    "- `full house` - Three cards with the same rank, two with another. Tiebreaker is first the rank of the three cards, then rank of the pair.\n",
    "- `flush` - Five cards of the same suit. Higher ranks are better, compared from high to low rank.\n",
    "- `straight` - Five consecutive ranks. Higher rank is better.\n",
    "- `three-of-a-kind` - Three cards of the same rank. Tiebreaker is first the rank of the three cards, then the highest other rank, then the second highest other rank.\n",
    "- `two pair` - Two cards of the same rank, two cards of another rank. Tiebreaker is first the rank of the high pair, then the rank of the low pair and then the rank of the remaining card.\n",
    "- `pair` - Two cards of the same rank. Tiebreaker is first the rank of the two cards, then the three other ranks.\n",
    "- `nothing` - Tiebreaker is the rank of the cards from high to low.\n",
    "\n",
    "Given hole cards and community cards, complete the function hand to return the type of hand (as written above, you can ignore case) and a list of ranks in decreasing order of significance, to use for comparison against other hands of the same type, of the best possible hand.\n",
    "\n",
    "Inputs:\n",
    "- Two lists, `hole_cards` with 2 strings representing the player's two cards, and `community_cards` with 5 strings representing the community cards\n",
    "\n",
    "Output:\n",
    "- A tuple, first piece is a string representing the best type of hand (lowercase), second piece is a list of strings showing the relevant card ranks (without suits) in order \n",
    "\n",
    "Examples:\n",
    "\n",
    ">`hand([\"A♠\", \"A♦\"], [\"J♣\", \"5♥\", \"10♥\", \"2♥\", \"3♦\"])`\n",
    ">\n",
    ">Would return `(\"pair\", [\"A\", \"J\", \"10\", \"5\"])`\n",
    "\n",
    ">`hand([\"A♠\", \"K♦\"], [\"J♥\", \"5♥\", \"10♥\", \"Q♥\", \"3♥\"])`\n",
    ">\n",
    ">Would return `(\"flush\", [\"Q\", \"J\", \"10\", \"5\", \"3\"])`\n",
    "\n",
    "Note:\n",
    "- The returned list of strings showing the relevant card ranks should only include the ranks of best five cards without any repeated ranks (aka list output may be fewer than 5 strings)\n",
    "- For Straights with an Ace, only the ace-high straight is accepted. An ace-low straight is invalid (ie. A,2,3,4,5 is invalid)"
   ]
  },
  {
   "cell_type": "code",
   "execution_count": 68,
   "metadata": {},
   "outputs": [],
   "source": [
    "hole_cards = [\"8♠\", \"6♠\"] \n",
    "community_cards = [\"7♠\", \"5♠\", \"9♠\", \"J♠\", \"10♠\"]"
   ]
  },
  {
   "cell_type": "code",
   "execution_count": 69,
   "metadata": {},
   "outputs": [
    {
     "data": {
      "text/plain": [
       "['8♠', '6♠', '7♠', '5♠', '9♠', 'J♠', '10♠']"
      ]
     },
     "execution_count": 69,
     "metadata": {},
     "output_type": "execute_result"
    }
   ],
   "source": [
    "cards = [*hole_cards, *community_cards]\n",
    "cards"
   ]
  },
  {
   "cell_type": "code",
   "execution_count": 70,
   "metadata": {},
   "outputs": [
    {
     "data": {
      "text/plain": [
       "['8♠', '6♠', '7♠', '5♠', '9♠', '11♠', '10♠']"
      ]
     },
     "execution_count": 70,
     "metadata": {},
     "output_type": "execute_result"
    }
   ],
   "source": [
    "face_cards = {'A': '14',\n",
    "              'K': '13',\n",
    "              'Q': '12',\n",
    "              'J': '11'}\n",
    "\n",
    "for face, value in face_cards.items():\n",
    "    cards = [card.replace(face, value) for card in cards]\n",
    "\n",
    "cards"
   ]
  },
  {
   "cell_type": "code",
   "execution_count": 71,
   "metadata": {},
   "outputs": [
    {
     "data": {
      "text/plain": [
       "['♠', '♠', '♠', '♠', '♠', '♠', '♠']"
      ]
     },
     "execution_count": 71,
     "metadata": {},
     "output_type": "execute_result"
    }
   ],
   "source": [
    "suits = [card[-1] for card in cards]\n",
    "suits"
   ]
  },
  {
   "cell_type": "code",
   "execution_count": 72,
   "metadata": {
    "scrolled": true
   },
   "outputs": [
    {
     "data": {
      "text/plain": [
       "{'♠': 7, '♣': 0, '♥': 0, '♦': 0}"
      ]
     },
     "execution_count": 72,
     "metadata": {},
     "output_type": "execute_result"
    }
   ],
   "source": [
    "all_suits = ['♠', '♣', '♥', '♦']\n",
    "\n",
    "suit_count = {suit: suits.count(suit) for suit in all_suits}\n",
    "suit_count"
   ]
  },
  {
   "cell_type": "code",
   "execution_count": 73,
   "metadata": {},
   "outputs": [
    {
     "data": {
      "text/plain": [
       "[11, 10, 9, 8, 7, 6, 5]"
      ]
     },
     "execution_count": 73,
     "metadata": {},
     "output_type": "execute_result"
    }
   ],
   "source": [
    "sorted_ranks = [int(card[:-1]) for card in cards]\n",
    "sorted_ranks.sort(reverse=True)\n",
    "sorted_ranks"
   ]
  },
  {
   "cell_type": "code",
   "execution_count": 74,
   "metadata": {
    "scrolled": true
   },
   "outputs": [
    {
     "data": {
      "text/plain": [
       "'♠'"
      ]
     },
     "execution_count": 74,
     "metadata": {},
     "output_type": "execute_result"
    }
   ],
   "source": [
    "max(suit_count, key=suit_count.get)"
   ]
  },
  {
   "cell_type": "code",
   "execution_count": 75,
   "metadata": {},
   "outputs": [],
   "source": [
    "# check for flush\n",
    "if (max(suit_count.values())) >= 5:\n",
    "    suit = max(suit_count, key=suit_count.get)\n",
    "    suit_cards = [card for card in cards if suit in card]"
   ]
  },
  {
   "cell_type": "code",
   "execution_count": 76,
   "metadata": {},
   "outputs": [
    {
     "data": {
      "text/plain": [
       "['8♠', '6♠', '7♠', '5♠', '9♠', '11♠', '10♠']"
      ]
     },
     "execution_count": 76,
     "metadata": {},
     "output_type": "execute_result"
    }
   ],
   "source": [
    "suit_cards"
   ]
  },
  {
   "cell_type": "code",
   "execution_count": 77,
   "metadata": {
    "scrolled": true
   },
   "outputs": [
    {
     "name": "stdout",
     "output_type": "stream",
     "text": [
      "[11, 10, 9, 8, 7]\n"
     ]
    }
   ],
   "source": [
    "combos = [sorted_ranks[:5], sorted_ranks[1:6], sorted_ranks[2:]]\n",
    "straight_options = [list(range(rank-4,rank+1))[::-1] for rank in sorted_ranks[:3]]\n",
    "\n",
    "for combo in combos:\n",
    "    if combo in straight_options:\n",
    "        print(combo)\n",
    "        break"
   ]
  },
  {
   "cell_type": "code",
   "execution_count": 78,
   "metadata": {},
   "outputs": [
    {
     "data": {
      "text/plain": [
       "[[11, 10, 9, 8, 7], [10, 9, 8, 7, 6], [9, 8, 7, 6, 5]]"
      ]
     },
     "execution_count": 78,
     "metadata": {},
     "output_type": "execute_result"
    }
   ],
   "source": [
    "straight_options"
   ]
  },
  {
   "cell_type": "code",
   "execution_count": 79,
   "metadata": {},
   "outputs": [
    {
     "data": {
      "text/plain": [
       "[[11, 10, 9, 8, 7], [10, 9, 8, 7, 6], [9, 8, 7, 6, 5]]"
      ]
     },
     "execution_count": 79,
     "metadata": {},
     "output_type": "execute_result"
    }
   ],
   "source": [
    "combos"
   ]
  },
  {
   "cell_type": "code",
   "execution_count": 82,
   "metadata": {},
   "outputs": [
    {
     "data": {
      "text/plain": [
       "[11, 10, 9, 8, 7, 6, 5]"
      ]
     },
     "execution_count": 82,
     "metadata": {},
     "output_type": "execute_result"
    }
   ],
   "source": [
    "sorted_suit_cards = [int(card[:-1]) for card in suit_cards]\n",
    "sorted_suit_cards.sort(reverse=True)\n",
    "sorted_suit_cards"
   ]
  },
  {
   "cell_type": "code",
   "execution_count": 81,
   "metadata": {},
   "outputs": [
    {
     "name": "stdout",
     "output_type": "stream",
     "text": [
      "[11, 10, 9, 8, 7, 6, 5]\n"
     ]
    }
   ],
   "source": [
    "# if len(sorted_suit_cards) > 5:\n",
    "#     suit_card_options = \n",
    "\n"
   ]
  },
  {
   "cell_type": "code",
   "execution_count": null,
   "metadata": {},
   "outputs": [],
   "source": [
    "for suit_card_option in suit_card_options:\n",
    "    if sorted_suit_cards == straight_options:\n",
    "        print(\"straight flush!\")"
   ]
  },
  {
   "cell_type": "code",
   "execution_count": null,
   "metadata": {},
   "outputs": [],
   "source": []
  },
  {
   "cell_type": "code",
   "execution_count": null,
   "metadata": {},
   "outputs": [],
   "source": []
  },
  {
   "cell_type": "code",
   "execution_count": null,
   "metadata": {},
   "outputs": [],
   "source": []
  },
  {
   "cell_type": "code",
   "execution_count": null,
   "metadata": {},
   "outputs": [],
   "source": [
    "def hand(hole_cards, community_cards):\n",
    "    cards = [*hole_cards, *community_cards]\n",
    "    "
   ]
  },
  {
   "cell_type": "code",
   "execution_count": null,
   "metadata": {},
   "outputs": [],
   "source": [
    "# Test 1\n",
    "hand([\"A♠\", \"A♦\"], [\"J♣\", \"5♥\", \"10♥\", \"2♥\", \"3♦\"])\n",
    "# (\"pair\", [\"A\", \"J\", \"10\", \"5\"])"
   ]
  },
  {
   "cell_type": "code",
   "execution_count": null,
   "metadata": {},
   "outputs": [],
   "source": [
    "# Test 2\n",
    "hand([\"A♠\", \"K♦\"], [\"J♥\", \"5♥\", \"10♥\", \"Q♥\", \"3♥\"])\n",
    "# (\"flush\", [\"Q\", \"J\", \"10\", \"5\", \"3\"])"
   ]
  },
  {
   "cell_type": "code",
   "execution_count": null,
   "metadata": {},
   "outputs": [],
   "source": [
    "# Test 3\n",
    "hand([\"K♠\", \"A♦\"], [\"J♣\", \"Q♥\", \"9♥\", \"2♥\", \"3♦\"])\n",
    "# (\"nothing\", [\"A\", \"K\", \"Q\", \"J\", \"9\"])"
   ]
  },
  {
   "cell_type": "code",
   "execution_count": null,
   "metadata": {},
   "outputs": [],
   "source": [
    "# Test 4\n",
    "hand([\"K♠\", \"Q♦\"], [\"J♣\", \"Q♥\", \"9♥\", \"2♥\", \"3♦\"])\n",
    "# (\"pair\", [\"Q\", \"K\", \"J\", \"9\"])"
   ]
  },
  {
   "cell_type": "code",
   "execution_count": null,
   "metadata": {},
   "outputs": [],
   "source": [
    "# Test 5\n",
    "hand([\"K♠\", \"J♦\"], [\"J♣\", \"K♥\", \"9♥\", \"2♥\", \"3♦\"])\n",
    "# (\"two pair\", [\"K\", \"J\", \"9\"])"
   ]
  },
  {
   "cell_type": "code",
   "execution_count": null,
   "metadata": {},
   "outputs": [],
   "source": [
    "# Test 6\n",
    "hand([\"4♠\", \"9♦\"], [\"J♣\", \"Q♥\", \"Q♠\", \"2♥\", \"Q♦\"])\n",
    "# (\"three-of-a-kind\", [\"Q\", \"J\", \"9\"])"
   ]
  },
  {
   "cell_type": "code",
   "execution_count": null,
   "metadata": {},
   "outputs": [],
   "source": [
    "# Test 7\n",
    "hand([\"2♠\", \"3♦\"], [\"2♣\", \"2♥\", \"3♠\", \"3♥\", \"2♦\"])\n",
    "# (\"four-of-a-kind\", [\"2\", \"3\"])"
   ]
  },
  {
   "cell_type": "code",
   "execution_count": null,
   "metadata": {},
   "outputs": [],
   "source": [
    "# Test 8\n",
    "hand([\"8♠\", \"6♠\"], [\"7♠\", \"5♠\", \"9♠\", \"J♠\", \"10♠\"])\n",
    "# (\"straight-flush\", [\"J\", \"10\", \"9\", \"8\", \"7\"])"
   ]
  }
 ],
 "metadata": {
  "kernelspec": {
   "display_name": "learn-env",
   "language": "python",
   "name": "learn-env"
  },
  "language_info": {
   "codemirror_mode": {
    "name": "ipython",
    "version": 3
   },
   "file_extension": ".py",
   "mimetype": "text/x-python",
   "name": "python",
   "nbconvert_exporter": "python",
   "pygments_lexer": "ipython3",
   "version": "3.8.5"
  }
 },
 "nbformat": 4,
 "nbformat_minor": 4
}
